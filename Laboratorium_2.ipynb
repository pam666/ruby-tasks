{
 "metadata": {
  "language": "ruby",
  "name": "",
  "signature": "sha256:2d6afe4ee2371f3f5bd1e259f4b1e753347920ea5d71f0d8c053dfa041fe9f1a"
 },
 "nbformat": 3,
 "nbformat_minor": 0,
 "worksheets": [
  {
   "cells": [
    {
     "cell_type": "heading",
     "level": 1,
     "metadata": {},
     "source": [
      "Liczby"
     ]
    },
    {
     "cell_type": "markdown",
     "metadata": {},
     "source": [
      "W Rubim wyst\u0119puj\u0105 trzy podstawowe typu s\u0142u\u017c\u0105ce do reprezentacji liczb\n",
      "* `Fixnum`\n",
      "* `Bignum`\n",
      "* `Float`\n",
      "\n",
      "Pierwsze dwa typy s\u0142u\u017c\u0105 do reprezentacji liczba ca\u0142kowitych, a trzeci do reprezentacji liczb zmiennopozycyjnych. R\u00f3\u017cnica pomi\u0119dzy dwoma pierwszymi typami polega na tym, \u017ce w typie `Bignum` s\u0105 reprezentowane liczby, kt\u00f3re nie mog\u0105 by\u0107 przechowywane natywnie na wykorzystywanej architekturze sprz\u0119towej. O ile zatem nie reprezentujesz bardzo du\u017cych liczb, nie musisz za bardzo przejmowa\u0107 si\u0119 tym rozr\u00f3\u017cnieniem.\n",
      "\n",
      "Wa\u017cniejsze s\u0105 r\u00f3\u017cnice mi\u0119dzy typami `Fixnum` oraz `Float`.\n",
      "\n",
      "Aby stworzy\u0107 liczb\u0119 typu `Fixnum` po prostu wpisujemy jej warto\u015b\u0107 w reprezentacji dziesi\u0119tnej, np.\n",
      "\n",
      "```ruby\n",
      "5\n",
      "```"
     ]
    },
    {
     "cell_type": "code",
     "collapsed": false,
     "input": [
      "5.class"
     ],
     "language": "python",
     "metadata": {},
     "outputs": [
      {
       "metadata": {},
       "output_type": "pyout",
       "prompt_number": 1,
       "text": [
        "Fixnum"
       ]
      }
     ],
     "prompt_number": 1
    },
    {
     "cell_type": "markdown",
     "metadata": {},
     "source": [
      "Typ dowolnej zmiennej mo\u017cna pozna\u0107 za pomoc\u0105 wywo\u0142ania `class`\n",
      "\n",
      "```ruby\n",
      "5.class\n",
      "```"
     ]
    },
    {
     "cell_type": "code",
     "collapsed": false,
     "input": [],
     "language": "python",
     "metadata": {},
     "outputs": []
    },
    {
     "cell_type": "markdown",
     "metadata": {},
     "source": [
      "Aby stworzy\u0107 liczb\u0119 typu `Float`, warto\u015b\u0107 liczby musi zawiera\u0107 kropk\u0119, np.\n",
      "\n",
      "```ruby\n",
      "5.0\n",
      "5.0.class\n",
      "```"
     ]
    },
    {
     "cell_type": "code",
     "collapsed": false,
     "input": [
      "44444444444444444444444444444444444444444444444444444444444444444444444444.0.class"
     ],
     "language": "python",
     "metadata": {},
     "outputs": [
      {
       "metadata": {},
       "output_type": "pyout",
       "prompt_number": 2,
       "text": [
        "Float"
       ]
      }
     ],
     "prompt_number": 2
    },
    {
     "cell_type": "markdown",
     "metadata": {},
     "source": [
      "Mo\u017cliwe jest dodawanie liczb r\u00f3\u017cnych typ\u00f3w - nast\u0119puje wtedy automatyczna kowersja\n",
      "```ruby\n",
      "a = 5\n",
      "b = 10.0\n",
      "c = a + b\n",
      "c.class\n",
      "```"
     ]
    },
    {
     "cell_type": "code",
     "collapsed": false,
     "input": [
      "a = 5\n",
      "b = 10.0\n",
      "c = a + b\n",
      "c.class"
     ],
     "language": "python",
     "metadata": {},
     "outputs": [
      {
       "metadata": {},
       "output_type": "pyout",
       "prompt_number": 3,
       "text": [
        "Float"
       ]
      }
     ],
     "prompt_number": 3
    },
    {
     "cell_type": "markdown",
     "metadata": {},
     "source": [
      "Na obu typach liczb mo\u017cna wykonywa\u0107 nast\u0119puj\u0105ce operacje arytmetyczne:\n",
      "\n",
      "|  Operator   | Dzia\u0142anie        |\n",
      "|-------------|------------------|\n",
      "| `+`         | dodawanie        |\n",
      "| `-`         | odejmowanie      |\n",
      "| `*`         | mno\u017cenie         |\n",
      "| `/`         | dzielenie        |\n",
      "| `%`         | dzielenie modulo |\n",
      "| `**`        | pot\u0119gowanie      |\n",
      "\n",
      "Przyk\u0142adowo\n",
      "\n",
      "```ruby\n",
      "(10**2 + 2 * 3) % 6\n",
      "```\n"
     ]
    },
    {
     "cell_type": "code",
     "collapsed": false,
     "input": [
      "(10**2 + 2 * 3) % 6"
     ],
     "language": "python",
     "metadata": {},
     "outputs": [
      {
       "metadata": {},
       "output_type": "pyout",
       "prompt_number": 4,
       "text": [
        "4"
       ]
      }
     ],
     "prompt_number": 4
    },
    {
     "cell_type": "markdown",
     "metadata": {},
     "source": [
      "Mo\u017cliwe jest r\u00f3wnie\u017c wykonywanie bardziej z\u0142o\u017conych operacji. Znajduj\u0105 si\u0119 one w module `Math`. \n",
      "Je\u015bli chcemy np. wyci\u0105gn\u0105\u0107 pierwiastek kwadratowy z liczby to piszemy\n",
      "```ruby\n",
      "Math.sqrt(2)\n",
      "```"
     ]
    },
    {
     "cell_type": "code",
     "collapsed": false,
     "input": [
      "include Math\n",
      "sqrt(2)"
     ],
     "language": "python",
     "metadata": {},
     "outputs": [
      {
       "metadata": {},
       "output_type": "pyout",
       "prompt_number": 5,
       "text": [
        "1.4142135623730951"
       ]
      }
     ],
     "prompt_number": 5
    },
    {
     "cell_type": "markdown",
     "metadata": {},
     "source": [
      "A logarytm naturalny to `Math.log`\n",
      "```ruby\n",
      "Math.log(2)\n",
      "```"
     ]
    },
    {
     "cell_type": "code",
     "collapsed": false,
     "input": [
      "Math.log(2)"
     ],
     "language": "python",
     "metadata": {},
     "outputs": [
      {
       "metadata": {},
       "output_type": "pyout",
       "prompt_number": 6,
       "text": [
        "0.6931471805599453"
       ]
      }
     ],
     "prompt_number": 6
    },
    {
     "cell_type": "markdown",
     "metadata": {},
     "source": [
      "Wa\u017cne zastrze\u017cenie dotyczy operatora dzielenia - dzia\u0142a o inaczej dla liczb ca\u0142kowitych, a inaczej dla zmiennopozycyjnych.\n",
      "W przypadku tych pierwszych wynik jest liczb\u0105 ca\u0142kowit\u0105, wi\u0119c mamy do czynienia z dzieleniem modulo:\n",
      "```ruby\n",
      "10 / 3\n",
      "```"
     ]
    },
    {
     "cell_type": "code",
     "collapsed": false,
     "input": [
      "10 / 3"
     ],
     "language": "python",
     "metadata": {},
     "outputs": [
      {
       "metadata": {},
       "output_type": "pyout",
       "prompt_number": 7,
       "text": [
        "3"
       ]
      }
     ],
     "prompt_number": 7
    },
    {
     "cell_type": "markdown",
     "metadata": {},
     "source": [
      "W przypadku tych drugich mamy do czynienia z dzieleniem zwyk\u0142yw - wystarczy aby tylko jeden argument by\u0142 liczb\u0105 zmiennopozycyjn\u0105, aby ca\u0142e wyra\u017cenie by\u0142o traktowane jak dzielenie zwyk\u0142e\n",
      "```ruby\n",
      "10.0 / 3\n",
      "```"
     ]
    },
    {
     "cell_type": "code",
     "collapsed": false,
     "input": [
      "10.0 / 3"
     ],
     "language": "python",
     "metadata": {},
     "outputs": [
      {
       "metadata": {},
       "output_type": "pyout",
       "prompt_number": 8,
       "text": [
        "3.3333333333333335"
       ]
      }
     ],
     "prompt_number": 8
    },
    {
     "cell_type": "markdown",
     "metadata": {},
     "source": [
      "Mo\u017cliwe jest r\u00f3wnie\u017c\u00a0dokonywanie kowersji pomi\u0119dzy tymi typami:\n",
      "```ruby\n",
      "5.5.to_i\n",
      "```"
     ]
    },
    {
     "cell_type": "code",
     "collapsed": false,
     "input": [
      "5.5.round.to_i"
     ],
     "language": "python",
     "metadata": {},
     "outputs": [
      {
       "metadata": {},
       "output_type": "pyout",
       "prompt_number": 11,
       "text": [
        "6"
       ]
      }
     ],
     "prompt_number": 11
    },
    {
     "cell_type": "markdown",
     "metadata": {},
     "source": [
      "```ruby\n",
      "5.to_f\n",
      "```"
     ]
    },
    {
     "cell_type": "code",
     "collapsed": false,
     "input": [
      "5.to_f"
     ],
     "language": "python",
     "metadata": {},
     "outputs": [
      {
       "metadata": {},
       "output_type": "pyout",
       "prompt_number": 10,
       "text": [
        "5.0"
       ]
      }
     ],
     "prompt_number": 10
    },
    {
     "cell_type": "markdown",
     "metadata": {},
     "source": [
      "Warto zwr\u00f3ci\u0107 uwag\u0119, \u017ce zamiana na liczb\u0119 ca\u0142kowit\u0105 powoduje obci\u0119cie warto\u015bci u\u0142amkowej, bez zaokr\u0105glenia:\n",
      "```ruby\n",
      "5.6.to_i\n",
      "```"
     ]
    },
    {
     "cell_type": "code",
     "collapsed": false,
     "input": [],
     "language": "python",
     "metadata": {},
     "outputs": [],
     "prompt_number": 3
    },
    {
     "cell_type": "markdown",
     "metadata": {},
     "source": [
      "Je\u015bli chcemy zaokr\u0105gli\u0107 warto\u015b\u0107, musimy najpierw u\u017cy\u0107 wywo\u0142ania `round`\n",
      "```ruby\n",
      "5.6.round.to_i\n",
      "```"
     ]
    },
    {
     "cell_type": "code",
     "collapsed": false,
     "input": [],
     "language": "python",
     "metadata": {},
     "outputs": [],
     "prompt_number": 5
    },
    {
     "cell_type": "markdown",
     "metadata": {},
     "source": [
      "Cho\u0107 wydawa\u0107 si\u0119 mo\u017ce, \u017ce operacja na liczbach nie s\u0105 wywo\u0142aniami metod, to w rzeczywisto\u015bci nie jest to prawda. Ka\u017cde wyra\u017cenie artymetyczne mo\u017ce by\u0107 zamienione na swoj\u0105 posta\u0107 obiektow\u0105:\n",
      "```ruby\n",
      "5 + 2 * 3\n",
      "```\n",
      "to to samo co\n",
      "```ruby\n",
      "5.+(2.*(3))\n",
      "```"
     ]
    },
    {
     "cell_type": "code",
     "collapsed": false,
     "input": [
      "5.+(2.*(3))"
     ],
     "language": "python",
     "metadata": {},
     "outputs": [
      {
       "metadata": {},
       "output_type": "pyout",
       "prompt_number": 13,
       "text": [
        "11"
       ]
      }
     ],
     "prompt_number": 13
    },
    {
     "cell_type": "markdown",
     "metadata": {},
     "source": [
      "Wa\u017cne jest jednak to, \u017ce operatory artymetyczne maj\u0105\u00a0swoje naturalne priorytety, dlatego nie musimy obawia\u0107 si\u0119, \u017ce wszystkie wyra\u017cenia b\u0119d\u0105 ewaluowane od lewej do prawej, jak to ma miejsce w przypadku zwyk\u0142ego wywo\u0142ywania metod."
     ]
    },
    {
     "cell_type": "markdown",
     "metadata": {},
     "source": [
      "Poza najprostszymi operacjami arytmetycznymi, na liczbach mo\u017cna wywo\u0142ywa\u0107 wiele metod. Wcze\u015bniej widzieli\u015bmy ju\u017c metody `round`, `to_i` oraz `to_f`. Inne ciekawe metody to `zero?`\n",
      "```ruby\n",
      "0.zero?\n",
      "1.zero?\n",
      "```"
     ]
    },
    {
     "cell_type": "code",
     "collapsed": true,
     "input": [
      "0.zero?"
     ],
     "language": "python",
     "metadata": {},
     "outputs": [
      {
       "metadata": {},
       "output_type": "pyout",
       "prompt_number": 12,
       "text": [
        "true"
       ]
      }
     ],
     "prompt_number": 12
    },
    {
     "cell_type": "markdown",
     "metadata": {},
     "source": [
      "`between?`\n",
      "```ruby\n",
      "15.between(10,20)\n",
      "```"
     ]
    },
    {
     "cell_type": "code",
     "collapsed": false,
     "input": [
      "15.between?(10,20)"
     ],
     "language": "python",
     "metadata": {},
     "outputs": [
      {
       "metadata": {},
       "output_type": "pyout",
       "prompt_number": 15,
       "text": [
        "true"
       ]
      }
     ],
     "prompt_number": 15
    },
    {
     "cell_type": "markdown",
     "metadata": {},
     "source": [
      "`abs`\n",
      "```ruby\n",
      "-1.abs\n",
      "```"
     ]
    },
    {
     "cell_type": "code",
     "collapsed": false,
     "input": [
      "-1.abs"
     ],
     "language": "python",
     "metadata": {},
     "outputs": [
      {
       "metadata": {},
       "output_type": "pyout",
       "prompt_number": 17,
       "text": [
        "1"
       ]
      }
     ],
     "prompt_number": 17
    },
    {
     "cell_type": "markdown",
     "metadata": {},
     "source": [
      "`succ`\n",
      "```ruby\n",
      "7.succ\n",
      "```"
     ]
    },
    {
     "cell_type": "code",
     "collapsed": false,
     "input": [
      "7.succ"
     ],
     "language": "python",
     "metadata": {},
     "outputs": [
      {
       "metadata": {},
       "output_type": "pyout",
       "prompt_number": 18,
       "text": [
        "8"
       ]
      }
     ],
     "prompt_number": 18
    },
    {
     "cell_type": "markdown",
     "metadata": {},
     "source": [
      "Oraz `times`\n",
      "```ruby\n",
      "3.times{ print \"Jestem komet\u0105. \" }\n",
      "```"
     ]
    },
    {
     "cell_type": "code",
     "collapsed": false,
     "input": [
      "3.times{ print \"Jestem komet\u0105. \" }"
     ],
     "language": "python",
     "metadata": {},
     "outputs": [
      {
       "output_type": "stream",
       "stream": "stdout",
       "text": [
        "Jestem komet\u0105. "
       ]
      },
      {
       "output_type": "stream",
       "stream": "stdout",
       "text": [
        "Jestem komet\u0105. "
       ]
      },
      {
       "output_type": "stream",
       "stream": "stdout",
       "text": [
        "Jestem komet\u0105. "
       ]
      },
      {
       "metadata": {},
       "output_type": "pyout",
       "prompt_number": 19,
       "text": [
        "3"
       ]
      }
     ],
     "prompt_number": 19
    },
    {
     "cell_type": "markdown",
     "metadata": {},
     "source": [
      "Istniej\u0105 biblioteki, kt\u00f3re dodaj\u0105 bardziej zaawansowane metody do obiekt\u00f3w liczbowych. Np. biblioteka u\u017cywana `ActiveSupport` w Railsach pozwala na wykonywanie dzia\u0142a\u0144 arytmetycznych na datach\n",
      "```ruby\n",
      "require 'active_support/time'\n",
      "3.days.ago\n",
      "```"
     ]
    },
    {
     "cell_type": "code",
     "collapsed": false,
     "input": [
      "require 'active_support/time'\n",
      "387548754387787.days.ago"
     ],
     "language": "python",
     "metadata": {},
     "outputs": [
      {
       "metadata": {},
       "output_type": "pyout",
       "prompt_number": 1,
       "text": [
        "-1061050660238-01-31 16:27:25 +0124"
       ]
      }
     ],
     "prompt_number": 1
    },
    {
     "cell_type": "code",
     "collapsed": false,
     "input": [
      "require 'active_support/time'\n",
      "21.years.ago"
     ],
     "language": "python",
     "metadata": {},
     "outputs": [
      {
       "metadata": {},
       "output_type": "pyout",
       "prompt_number": 2,
       "text": [
        "1993-10-15 16:28:09 +0100"
       ]
      }
     ],
     "prompt_number": 2
    },
    {
     "cell_type": "code",
     "collapsed": false,
     "input": [
      "require 'active_support/time'\n",
      "5.seconds.ago"
     ],
     "language": "python",
     "metadata": {},
     "outputs": [
      {
       "metadata": {},
       "output_type": "pyout",
       "prompt_number": 14,
       "text": [
        "2014-10-15 16:29:53 +0200"
       ]
      }
     ],
     "prompt_number": 14
    },
    {
     "cell_type": "heading",
     "level": 1,
     "metadata": {},
     "source": [
      "Symbole"
     ]
    }
   ],
   "metadata": {}
  }
 ]
}